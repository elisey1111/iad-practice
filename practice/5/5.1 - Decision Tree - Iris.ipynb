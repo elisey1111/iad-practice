{
 "cells": [
  {
   "cell_type": "code",
<<<<<<< HEAD
   "execution_count": 2,
=======
   "execution_count": null,
>>>>>>> e1912e385da9d555f892f2c463a52469f81f1033
   "metadata": {},
   "outputs": [],
   "source": [
    "import pandas as pd\n",
    "import matplotlib.pyplot as plt\n",
    "\n",
    "from sklearn.tree import DecisionTreeClassifier, plot_tree"
   ]
  },
  {
   "cell_type": "markdown",
   "metadata": {},
   "source": [
    "## Get the Data "
   ]
  },
  {
   "cell_type": "code",
<<<<<<< HEAD
   "execution_count": 3,
=======
   "execution_count": null,
>>>>>>> e1912e385da9d555f892f2c463a52469f81f1033
   "metadata": {},
   "outputs": [],
   "source": [
    "#https://www.kaggle.com/uciml/iris\n",
    "\n",
    "url_='https://drive.google.com/uc?id=10vsX925g8ff4QdgQpnsguo4DHUHOPgAL'\n",
    "df = pd.read_csv(url_)"
   ]
  },
  {
   "cell_type": "code",
<<<<<<< HEAD
   "execution_count": 4,
   "metadata": {},
   "outputs": [
    {
     "data": {
      "text/plain": [
       "(150, 6)"
      ]
     },
     "execution_count": 4,
     "metadata": {},
     "output_type": "execute_result"
    }
   ],
=======
   "execution_count": null,
   "metadata": {},
   "outputs": [],
>>>>>>> e1912e385da9d555f892f2c463a52469f81f1033
   "source": [
    "df.shape"
   ]
  },
  {
   "cell_type": "code",
<<<<<<< HEAD
   "execution_count": 5,
   "metadata": {},
   "outputs": [
    {
     "data": {
      "text/html": [
       "<div>\n",
       "<style scoped>\n",
       "    .dataframe tbody tr th:only-of-type {\n",
       "        vertical-align: middle;\n",
       "    }\n",
       "\n",
       "    .dataframe tbody tr th {\n",
       "        vertical-align: top;\n",
       "    }\n",
       "\n",
       "    .dataframe thead th {\n",
       "        text-align: right;\n",
       "    }\n",
       "</style>\n",
       "<table border=\"1\" class=\"dataframe\">\n",
       "  <thead>\n",
       "    <tr style=\"text-align: right;\">\n",
       "      <th></th>\n",
       "      <th>Id</th>\n",
       "      <th>SepalLengthCm</th>\n",
       "      <th>SepalWidthCm</th>\n",
       "      <th>PetalLengthCm</th>\n",
       "      <th>PetalWidthCm</th>\n",
       "      <th>Species</th>\n",
       "    </tr>\n",
       "  </thead>\n",
       "  <tbody>\n",
       "    <tr>\n",
       "      <th>0</th>\n",
       "      <td>1</td>\n",
       "      <td>5.1</td>\n",
       "      <td>3.5</td>\n",
       "      <td>1.4</td>\n",
       "      <td>0.2</td>\n",
       "      <td>Iris-setosa</td>\n",
       "    </tr>\n",
       "    <tr>\n",
       "      <th>1</th>\n",
       "      <td>2</td>\n",
       "      <td>4.9</td>\n",
       "      <td>3.0</td>\n",
       "      <td>1.4</td>\n",
       "      <td>0.2</td>\n",
       "      <td>Iris-setosa</td>\n",
       "    </tr>\n",
       "    <tr>\n",
       "      <th>2</th>\n",
       "      <td>3</td>\n",
       "      <td>4.7</td>\n",
       "      <td>3.2</td>\n",
       "      <td>1.3</td>\n",
       "      <td>0.2</td>\n",
       "      <td>Iris-setosa</td>\n",
       "    </tr>\n",
       "    <tr>\n",
       "      <th>3</th>\n",
       "      <td>4</td>\n",
       "      <td>4.6</td>\n",
       "      <td>3.1</td>\n",
       "      <td>1.5</td>\n",
       "      <td>0.2</td>\n",
       "      <td>Iris-setosa</td>\n",
       "    </tr>\n",
       "    <tr>\n",
       "      <th>4</th>\n",
       "      <td>5</td>\n",
       "      <td>5.0</td>\n",
       "      <td>3.6</td>\n",
       "      <td>1.4</td>\n",
       "      <td>0.2</td>\n",
       "      <td>Iris-setosa</td>\n",
       "    </tr>\n",
       "  </tbody>\n",
       "</table>\n",
       "</div>"
      ],
      "text/plain": [
       "   Id  SepalLengthCm  SepalWidthCm  PetalLengthCm  PetalWidthCm      Species\n",
       "0   1            5.1           3.5            1.4           0.2  Iris-setosa\n",
       "1   2            4.9           3.0            1.4           0.2  Iris-setosa\n",
       "2   3            4.7           3.2            1.3           0.2  Iris-setosa\n",
       "3   4            4.6           3.1            1.5           0.2  Iris-setosa\n",
       "4   5            5.0           3.6            1.4           0.2  Iris-setosa"
      ]
     },
     "execution_count": 5,
     "metadata": {},
     "output_type": "execute_result"
    }
   ],
=======
   "execution_count": null,
   "metadata": {},
   "outputs": [],
>>>>>>> e1912e385da9d555f892f2c463a52469f81f1033
   "source": [
    "df.head()"
   ]
  },
  {
   "cell_type": "code",
<<<<<<< HEAD
   "execution_count": 6,
   "metadata": {},
   "outputs": [
    {
     "data": {
      "text/plain": [
       "Index(['Id', 'SepalLengthCm', 'SepalWidthCm', 'PetalLengthCm', 'PetalWidthCm',\n",
       "       'Species'],\n",
       "      dtype='object')"
      ]
     },
     "execution_count": 6,
     "metadata": {},
     "output_type": "execute_result"
    }
   ],
=======
   "execution_count": null,
   "metadata": {},
   "outputs": [],
>>>>>>> e1912e385da9d555f892f2c463a52469f81f1033
   "source": [
    "df.columns"
   ]
  },
  {
   "cell_type": "code",
<<<<<<< HEAD
   "execution_count": 7,
=======
   "execution_count": null,
>>>>>>> e1912e385da9d555f892f2c463a52469f81f1033
   "metadata": {},
   "outputs": [],
   "source": [
    "X = df.drop(['Id', 'Species'], axis = 1)\n",
    "y = df['Species']"
   ]
  },
  {
   "cell_type": "code",
<<<<<<< HEAD
   "execution_count": 8,
   "metadata": {},
   "outputs": [
    {
     "data": {
      "text/plain": [
       "pandas.core.frame.DataFrame"
      ]
     },
     "execution_count": 8,
     "metadata": {},
     "output_type": "execute_result"
    }
   ],
=======
   "execution_count": null,
   "metadata": {},
   "outputs": [],
>>>>>>> e1912e385da9d555f892f2c463a52469f81f1033
   "source": [
    "type(X) # DataFrame"
   ]
  },
  {
   "cell_type": "code",
<<<<<<< HEAD
   "execution_count": 9,
   "metadata": {},
   "outputs": [
    {
     "data": {
      "text/plain": [
       "pandas.core.series.Series"
      ]
     },
     "execution_count": 9,
     "metadata": {},
     "output_type": "execute_result"
    }
   ],
=======
   "execution_count": null,
   "metadata": {},
   "outputs": [],
>>>>>>> e1912e385da9d555f892f2c463a52469f81f1033
   "source": [
    "type(y) # Series"
   ]
  },
  {
   "cell_type": "code",
<<<<<<< HEAD
   "execution_count": 10,
   "metadata": {},
   "outputs": [
    {
     "data": {
      "text/html": [
       "<div>\n",
       "<style scoped>\n",
       "    .dataframe tbody tr th:only-of-type {\n",
       "        vertical-align: middle;\n",
       "    }\n",
       "\n",
       "    .dataframe tbody tr th {\n",
       "        vertical-align: top;\n",
       "    }\n",
       "\n",
       "    .dataframe thead th {\n",
       "        text-align: right;\n",
       "    }\n",
       "</style>\n",
       "<table border=\"1\" class=\"dataframe\">\n",
       "  <thead>\n",
       "    <tr style=\"text-align: right;\">\n",
       "      <th></th>\n",
       "      <th>SepalLengthCm</th>\n",
       "      <th>SepalWidthCm</th>\n",
       "      <th>PetalLengthCm</th>\n",
       "      <th>PetalWidthCm</th>\n",
       "    </tr>\n",
       "  </thead>\n",
       "  <tbody>\n",
       "    <tr>\n",
       "      <th>0</th>\n",
       "      <td>5.1</td>\n",
       "      <td>3.5</td>\n",
       "      <td>1.4</td>\n",
       "      <td>0.2</td>\n",
       "    </tr>\n",
       "    <tr>\n",
       "      <th>1</th>\n",
       "      <td>4.9</td>\n",
       "      <td>3.0</td>\n",
       "      <td>1.4</td>\n",
       "      <td>0.2</td>\n",
       "    </tr>\n",
       "    <tr>\n",
       "      <th>2</th>\n",
       "      <td>4.7</td>\n",
       "      <td>3.2</td>\n",
       "      <td>1.3</td>\n",
       "      <td>0.2</td>\n",
       "    </tr>\n",
       "    <tr>\n",
       "      <th>3</th>\n",
       "      <td>4.6</td>\n",
       "      <td>3.1</td>\n",
       "      <td>1.5</td>\n",
       "      <td>0.2</td>\n",
       "    </tr>\n",
       "    <tr>\n",
       "      <th>4</th>\n",
       "      <td>5.0</td>\n",
       "      <td>3.6</td>\n",
       "      <td>1.4</td>\n",
       "      <td>0.2</td>\n",
       "    </tr>\n",
       "    <tr>\n",
       "      <th>...</th>\n",
       "      <td>...</td>\n",
       "      <td>...</td>\n",
       "      <td>...</td>\n",
       "      <td>...</td>\n",
       "    </tr>\n",
       "    <tr>\n",
       "      <th>145</th>\n",
       "      <td>6.7</td>\n",
       "      <td>3.0</td>\n",
       "      <td>5.2</td>\n",
       "      <td>2.3</td>\n",
       "    </tr>\n",
       "    <tr>\n",
       "      <th>146</th>\n",
       "      <td>6.3</td>\n",
       "      <td>2.5</td>\n",
       "      <td>5.0</td>\n",
       "      <td>1.9</td>\n",
       "    </tr>\n",
       "    <tr>\n",
       "      <th>147</th>\n",
       "      <td>6.5</td>\n",
       "      <td>3.0</td>\n",
       "      <td>5.2</td>\n",
       "      <td>2.0</td>\n",
       "    </tr>\n",
       "    <tr>\n",
       "      <th>148</th>\n",
       "      <td>6.2</td>\n",
       "      <td>3.4</td>\n",
       "      <td>5.4</td>\n",
       "      <td>2.3</td>\n",
       "    </tr>\n",
       "    <tr>\n",
       "      <th>149</th>\n",
       "      <td>5.9</td>\n",
       "      <td>3.0</td>\n",
       "      <td>5.1</td>\n",
       "      <td>1.8</td>\n",
       "    </tr>\n",
       "  </tbody>\n",
       "</table>\n",
       "<p>150 rows × 4 columns</p>\n",
       "</div>"
      ],
      "text/plain": [
       "     SepalLengthCm  SepalWidthCm  PetalLengthCm  PetalWidthCm\n",
       "0              5.1           3.5            1.4           0.2\n",
       "1              4.9           3.0            1.4           0.2\n",
       "2              4.7           3.2            1.3           0.2\n",
       "3              4.6           3.1            1.5           0.2\n",
       "4              5.0           3.6            1.4           0.2\n",
       "..             ...           ...            ...           ...\n",
       "145            6.7           3.0            5.2           2.3\n",
       "146            6.3           2.5            5.0           1.9\n",
       "147            6.5           3.0            5.2           2.0\n",
       "148            6.2           3.4            5.4           2.3\n",
       "149            5.9           3.0            5.1           1.8\n",
       "\n",
       "[150 rows x 4 columns]"
      ]
     },
     "execution_count": 10,
     "metadata": {},
     "output_type": "execute_result"
    }
   ],
=======
   "execution_count": null,
   "metadata": {},
   "outputs": [],
>>>>>>> e1912e385da9d555f892f2c463a52469f81f1033
   "source": [
    "X"
   ]
  },
  {
   "cell_type": "code",
<<<<<<< HEAD
   "execution_count": 11,
   "metadata": {},
   "outputs": [
    {
     "data": {
      "text/plain": [
       "0         Iris-setosa\n",
       "1         Iris-setosa\n",
       "2         Iris-setosa\n",
       "3         Iris-setosa\n",
       "4         Iris-setosa\n",
       "            ...      \n",
       "145    Iris-virginica\n",
       "146    Iris-virginica\n",
       "147    Iris-virginica\n",
       "148    Iris-virginica\n",
       "149    Iris-virginica\n",
       "Name: Species, Length: 150, dtype: object"
      ]
     },
     "execution_count": 11,
     "metadata": {},
     "output_type": "execute_result"
    }
   ],
=======
   "execution_count": null,
   "metadata": {},
   "outputs": [],
>>>>>>> e1912e385da9d555f892f2c463a52469f81f1033
   "source": [
    "y"
   ]
  },
  {
   "cell_type": "code",
<<<<<<< HEAD
   "execution_count": 12,
   "metadata": {},
   "outputs": [
    {
     "data": {
      "text/plain": [
       "{'Iris-setosa', 'Iris-versicolor', 'Iris-virginica'}"
      ]
     },
     "execution_count": 12,
     "metadata": {},
     "output_type": "execute_result"
    }
   ],
=======
   "execution_count": null,
   "metadata": {},
   "outputs": [],
>>>>>>> e1912e385da9d555f892f2c463a52469f81f1033
   "source": [
    "set(y) ## labels"
   ]
  },
  {
   "cell_type": "code",
<<<<<<< HEAD
   "execution_count": 13,
   "metadata": {},
   "outputs": [
    {
     "data": {
      "text/plain": [
       "(150, 4)"
      ]
     },
     "execution_count": 13,
     "metadata": {},
     "output_type": "execute_result"
    }
   ],
=======
   "execution_count": null,
   "metadata": {},
   "outputs": [],
>>>>>>> e1912e385da9d555f892f2c463a52469f81f1033
   "source": [
    "X.shape"
   ]
  },
  {
   "cell_type": "code",
<<<<<<< HEAD
   "execution_count": 14,
   "metadata": {},
   "outputs": [
    {
     "data": {
      "text/plain": [
       "(150,)"
      ]
     },
     "execution_count": 14,
     "metadata": {},
     "output_type": "execute_result"
    }
   ],
=======
   "execution_count": null,
   "metadata": {},
   "outputs": [],
>>>>>>> e1912e385da9d555f892f2c463a52469f81f1033
   "source": [
    "y.shape"
   ]
  },
  {
   "cell_type": "markdown",
   "metadata": {},
   "source": [
    "## Split data to Train and Test Sets"
   ]
  },
  {
   "cell_type": "code",
<<<<<<< HEAD
   "execution_count": 15,
=======
   "execution_count": null,
>>>>>>> e1912e385da9d555f892f2c463a52469f81f1033
   "metadata": {},
   "outputs": [],
   "source": [
    "from sklearn.model_selection import train_test_split\n",
    "\n",
    "X_train, X_test, y_train, y_test = train_test_split(X, y, test_size=0.20) # 20%"
   ]
  },
  {
   "cell_type": "code",
<<<<<<< HEAD
   "execution_count": 16,
   "metadata": {},
   "outputs": [
    {
     "data": {
      "text/plain": [
       "((120, 4), (120,))"
      ]
     },
     "execution_count": 16,
     "metadata": {},
     "output_type": "execute_result"
    }
   ],
=======
   "execution_count": null,
   "metadata": {},
   "outputs": [],
>>>>>>> e1912e385da9d555f892f2c463a52469f81f1033
   "source": [
    "(X_train.shape, y_train.shape)"
   ]
  },
  {
   "cell_type": "code",
<<<<<<< HEAD
   "execution_count": 17,
   "metadata": {},
   "outputs": [
    {
     "data": {
      "text/plain": [
       "((30, 4), (30,))"
      ]
     },
     "execution_count": 17,
     "metadata": {},
     "output_type": "execute_result"
    }
   ],
=======
   "execution_count": null,
   "metadata": {},
   "outputs": [],
>>>>>>> e1912e385da9d555f892f2c463a52469f81f1033
   "source": [
    "(X_test.shape, y_test.shape)"
   ]
  },
  {
   "cell_type": "markdown",
   "metadata": {},
   "source": [
    "### Decision Tree - create instance"
   ]
  },
  {
   "cell_type": "code",
<<<<<<< HEAD
   "execution_count": 18,
=======
   "execution_count": null,
>>>>>>> e1912e385da9d555f892f2c463a52469f81f1033
   "metadata": {},
   "outputs": [],
   "source": [
    "# https://scikit-learn.org/stable/modules/generated/sklearn.tree.DecisionTreeClassifier.html\n",
    "model = DecisionTreeClassifier(criterion='gini')"
   ]
  },
  {
   "cell_type": "markdown",
   "metadata": {},
   "source": [
    "### Decision Tree - train model"
   ]
  },
  {
   "cell_type": "code",
<<<<<<< HEAD
   "execution_count": 19,
   "metadata": {},
   "outputs": [
    {
     "data": {
      "text/html": [
       "<style>#sk-container-id-1 {\n",
       "  /* Definition of color scheme common for light and dark mode */\n",
       "  --sklearn-color-text: #000;\n",
       "  --sklearn-color-text-muted: #666;\n",
       "  --sklearn-color-line: gray;\n",
       "  /* Definition of color scheme for unfitted estimators */\n",
       "  --sklearn-color-unfitted-level-0: #fff5e6;\n",
       "  --sklearn-color-unfitted-level-1: #f6e4d2;\n",
       "  --sklearn-color-unfitted-level-2: #ffe0b3;\n",
       "  --sklearn-color-unfitted-level-3: chocolate;\n",
       "  /* Definition of color scheme for fitted estimators */\n",
       "  --sklearn-color-fitted-level-0: #f0f8ff;\n",
       "  --sklearn-color-fitted-level-1: #d4ebff;\n",
       "  --sklearn-color-fitted-level-2: #b3dbfd;\n",
       "  --sklearn-color-fitted-level-3: cornflowerblue;\n",
       "\n",
       "  /* Specific color for light theme */\n",
       "  --sklearn-color-text-on-default-background: var(--sg-text-color, var(--theme-code-foreground, var(--jp-content-font-color1, black)));\n",
       "  --sklearn-color-background: var(--sg-background-color, var(--theme-background, var(--jp-layout-color0, white)));\n",
       "  --sklearn-color-border-box: var(--sg-text-color, var(--theme-code-foreground, var(--jp-content-font-color1, black)));\n",
       "  --sklearn-color-icon: #696969;\n",
       "\n",
       "  @media (prefers-color-scheme: dark) {\n",
       "    /* Redefinition of color scheme for dark theme */\n",
       "    --sklearn-color-text-on-default-background: var(--sg-text-color, var(--theme-code-foreground, var(--jp-content-font-color1, white)));\n",
       "    --sklearn-color-background: var(--sg-background-color, var(--theme-background, var(--jp-layout-color0, #111)));\n",
       "    --sklearn-color-border-box: var(--sg-text-color, var(--theme-code-foreground, var(--jp-content-font-color1, white)));\n",
       "    --sklearn-color-icon: #878787;\n",
       "  }\n",
       "}\n",
       "\n",
       "#sk-container-id-1 {\n",
       "  color: var(--sklearn-color-text);\n",
       "}\n",
       "\n",
       "#sk-container-id-1 pre {\n",
       "  padding: 0;\n",
       "}\n",
       "\n",
       "#sk-container-id-1 input.sk-hidden--visually {\n",
       "  border: 0;\n",
       "  clip: rect(1px 1px 1px 1px);\n",
       "  clip: rect(1px, 1px, 1px, 1px);\n",
       "  height: 1px;\n",
       "  margin: -1px;\n",
       "  overflow: hidden;\n",
       "  padding: 0;\n",
       "  position: absolute;\n",
       "  width: 1px;\n",
       "}\n",
       "\n",
       "#sk-container-id-1 div.sk-dashed-wrapped {\n",
       "  border: 1px dashed var(--sklearn-color-line);\n",
       "  margin: 0 0.4em 0.5em 0.4em;\n",
       "  box-sizing: border-box;\n",
       "  padding-bottom: 0.4em;\n",
       "  background-color: var(--sklearn-color-background);\n",
       "}\n",
       "\n",
       "#sk-container-id-1 div.sk-container {\n",
       "  /* jupyter's `normalize.less` sets `[hidden] { display: none; }`\n",
       "     but bootstrap.min.css set `[hidden] { display: none !important; }`\n",
       "     so we also need the `!important` here to be able to override the\n",
       "     default hidden behavior on the sphinx rendered scikit-learn.org.\n",
       "     See: https://github.com/scikit-learn/scikit-learn/issues/21755 */\n",
       "  display: inline-block !important;\n",
       "  position: relative;\n",
       "}\n",
       "\n",
       "#sk-container-id-1 div.sk-text-repr-fallback {\n",
       "  display: none;\n",
       "}\n",
       "\n",
       "div.sk-parallel-item,\n",
       "div.sk-serial,\n",
       "div.sk-item {\n",
       "  /* draw centered vertical line to link estimators */\n",
       "  background-image: linear-gradient(var(--sklearn-color-text-on-default-background), var(--sklearn-color-text-on-default-background));\n",
       "  background-size: 2px 100%;\n",
       "  background-repeat: no-repeat;\n",
       "  background-position: center center;\n",
       "}\n",
       "\n",
       "/* Parallel-specific style estimator block */\n",
       "\n",
       "#sk-container-id-1 div.sk-parallel-item::after {\n",
       "  content: \"\";\n",
       "  width: 100%;\n",
       "  border-bottom: 2px solid var(--sklearn-color-text-on-default-background);\n",
       "  flex-grow: 1;\n",
       "}\n",
       "\n",
       "#sk-container-id-1 div.sk-parallel {\n",
       "  display: flex;\n",
       "  align-items: stretch;\n",
       "  justify-content: center;\n",
       "  background-color: var(--sklearn-color-background);\n",
       "  position: relative;\n",
       "}\n",
       "\n",
       "#sk-container-id-1 div.sk-parallel-item {\n",
       "  display: flex;\n",
       "  flex-direction: column;\n",
       "}\n",
       "\n",
       "#sk-container-id-1 div.sk-parallel-item:first-child::after {\n",
       "  align-self: flex-end;\n",
       "  width: 50%;\n",
       "}\n",
       "\n",
       "#sk-container-id-1 div.sk-parallel-item:last-child::after {\n",
       "  align-self: flex-start;\n",
       "  width: 50%;\n",
       "}\n",
       "\n",
       "#sk-container-id-1 div.sk-parallel-item:only-child::after {\n",
       "  width: 0;\n",
       "}\n",
       "\n",
       "/* Serial-specific style estimator block */\n",
       "\n",
       "#sk-container-id-1 div.sk-serial {\n",
       "  display: flex;\n",
       "  flex-direction: column;\n",
       "  align-items: center;\n",
       "  background-color: var(--sklearn-color-background);\n",
       "  padding-right: 1em;\n",
       "  padding-left: 1em;\n",
       "}\n",
       "\n",
       "\n",
       "/* Toggleable style: style used for estimator/Pipeline/ColumnTransformer box that is\n",
       "clickable and can be expanded/collapsed.\n",
       "- Pipeline and ColumnTransformer use this feature and define the default style\n",
       "- Estimators will overwrite some part of the style using the `sk-estimator` class\n",
       "*/\n",
       "\n",
       "/* Pipeline and ColumnTransformer style (default) */\n",
       "\n",
       "#sk-container-id-1 div.sk-toggleable {\n",
       "  /* Default theme specific background. It is overwritten whether we have a\n",
       "  specific estimator or a Pipeline/ColumnTransformer */\n",
       "  background-color: var(--sklearn-color-background);\n",
       "}\n",
       "\n",
       "/* Toggleable label */\n",
       "#sk-container-id-1 label.sk-toggleable__label {\n",
       "  cursor: pointer;\n",
       "  display: flex;\n",
       "  width: 100%;\n",
       "  margin-bottom: 0;\n",
       "  padding: 0.5em;\n",
       "  box-sizing: border-box;\n",
       "  text-align: center;\n",
       "  align-items: start;\n",
       "  justify-content: space-between;\n",
       "  gap: 0.5em;\n",
       "}\n",
       "\n",
       "#sk-container-id-1 label.sk-toggleable__label .caption {\n",
       "  font-size: 0.6rem;\n",
       "  font-weight: lighter;\n",
       "  color: var(--sklearn-color-text-muted);\n",
       "}\n",
       "\n",
       "#sk-container-id-1 label.sk-toggleable__label-arrow:before {\n",
       "  /* Arrow on the left of the label */\n",
       "  content: \"▸\";\n",
       "  float: left;\n",
       "  margin-right: 0.25em;\n",
       "  color: var(--sklearn-color-icon);\n",
       "}\n",
       "\n",
       "#sk-container-id-1 label.sk-toggleable__label-arrow:hover:before {\n",
       "  color: var(--sklearn-color-text);\n",
       "}\n",
       "\n",
       "/* Toggleable content - dropdown */\n",
       "\n",
       "#sk-container-id-1 div.sk-toggleable__content {\n",
       "  display: none;\n",
       "  text-align: left;\n",
       "  /* unfitted */\n",
       "  background-color: var(--sklearn-color-unfitted-level-0);\n",
       "}\n",
       "\n",
       "#sk-container-id-1 div.sk-toggleable__content.fitted {\n",
       "  /* fitted */\n",
       "  background-color: var(--sklearn-color-fitted-level-0);\n",
       "}\n",
       "\n",
       "#sk-container-id-1 div.sk-toggleable__content pre {\n",
       "  margin: 0.2em;\n",
       "  border-radius: 0.25em;\n",
       "  color: var(--sklearn-color-text);\n",
       "  /* unfitted */\n",
       "  background-color: var(--sklearn-color-unfitted-level-0);\n",
       "}\n",
       "\n",
       "#sk-container-id-1 div.sk-toggleable__content.fitted pre {\n",
       "  /* unfitted */\n",
       "  background-color: var(--sklearn-color-fitted-level-0);\n",
       "}\n",
       "\n",
       "#sk-container-id-1 input.sk-toggleable__control:checked~div.sk-toggleable__content {\n",
       "  /* Expand drop-down */\n",
       "  display: block;\n",
       "  width: 100%;\n",
       "  overflow: visible;\n",
       "}\n",
       "\n",
       "#sk-container-id-1 input.sk-toggleable__control:checked~label.sk-toggleable__label-arrow:before {\n",
       "  content: \"▾\";\n",
       "}\n",
       "\n",
       "/* Pipeline/ColumnTransformer-specific style */\n",
       "\n",
       "#sk-container-id-1 div.sk-label input.sk-toggleable__control:checked~label.sk-toggleable__label {\n",
       "  color: var(--sklearn-color-text);\n",
       "  background-color: var(--sklearn-color-unfitted-level-2);\n",
       "}\n",
       "\n",
       "#sk-container-id-1 div.sk-label.fitted input.sk-toggleable__control:checked~label.sk-toggleable__label {\n",
       "  background-color: var(--sklearn-color-fitted-level-2);\n",
       "}\n",
       "\n",
       "/* Estimator-specific style */\n",
       "\n",
       "/* Colorize estimator box */\n",
       "#sk-container-id-1 div.sk-estimator input.sk-toggleable__control:checked~label.sk-toggleable__label {\n",
       "  /* unfitted */\n",
       "  background-color: var(--sklearn-color-unfitted-level-2);\n",
       "}\n",
       "\n",
       "#sk-container-id-1 div.sk-estimator.fitted input.sk-toggleable__control:checked~label.sk-toggleable__label {\n",
       "  /* fitted */\n",
       "  background-color: var(--sklearn-color-fitted-level-2);\n",
       "}\n",
       "\n",
       "#sk-container-id-1 div.sk-label label.sk-toggleable__label,\n",
       "#sk-container-id-1 div.sk-label label {\n",
       "  /* The background is the default theme color */\n",
       "  color: var(--sklearn-color-text-on-default-background);\n",
       "}\n",
       "\n",
       "/* On hover, darken the color of the background */\n",
       "#sk-container-id-1 div.sk-label:hover label.sk-toggleable__label {\n",
       "  color: var(--sklearn-color-text);\n",
       "  background-color: var(--sklearn-color-unfitted-level-2);\n",
       "}\n",
       "\n",
       "/* Label box, darken color on hover, fitted */\n",
       "#sk-container-id-1 div.sk-label.fitted:hover label.sk-toggleable__label.fitted {\n",
       "  color: var(--sklearn-color-text);\n",
       "  background-color: var(--sklearn-color-fitted-level-2);\n",
       "}\n",
       "\n",
       "/* Estimator label */\n",
       "\n",
       "#sk-container-id-1 div.sk-label label {\n",
       "  font-family: monospace;\n",
       "  font-weight: bold;\n",
       "  display: inline-block;\n",
       "  line-height: 1.2em;\n",
       "}\n",
       "\n",
       "#sk-container-id-1 div.sk-label-container {\n",
       "  text-align: center;\n",
       "}\n",
       "\n",
       "/* Estimator-specific */\n",
       "#sk-container-id-1 div.sk-estimator {\n",
       "  font-family: monospace;\n",
       "  border: 1px dotted var(--sklearn-color-border-box);\n",
       "  border-radius: 0.25em;\n",
       "  box-sizing: border-box;\n",
       "  margin-bottom: 0.5em;\n",
       "  /* unfitted */\n",
       "  background-color: var(--sklearn-color-unfitted-level-0);\n",
       "}\n",
       "\n",
       "#sk-container-id-1 div.sk-estimator.fitted {\n",
       "  /* fitted */\n",
       "  background-color: var(--sklearn-color-fitted-level-0);\n",
       "}\n",
       "\n",
       "/* on hover */\n",
       "#sk-container-id-1 div.sk-estimator:hover {\n",
       "  /* unfitted */\n",
       "  background-color: var(--sklearn-color-unfitted-level-2);\n",
       "}\n",
       "\n",
       "#sk-container-id-1 div.sk-estimator.fitted:hover {\n",
       "  /* fitted */\n",
       "  background-color: var(--sklearn-color-fitted-level-2);\n",
       "}\n",
       "\n",
       "/* Specification for estimator info (e.g. \"i\" and \"?\") */\n",
       "\n",
       "/* Common style for \"i\" and \"?\" */\n",
       "\n",
       ".sk-estimator-doc-link,\n",
       "a:link.sk-estimator-doc-link,\n",
       "a:visited.sk-estimator-doc-link {\n",
       "  float: right;\n",
       "  font-size: smaller;\n",
       "  line-height: 1em;\n",
       "  font-family: monospace;\n",
       "  background-color: var(--sklearn-color-background);\n",
       "  border-radius: 1em;\n",
       "  height: 1em;\n",
       "  width: 1em;\n",
       "  text-decoration: none !important;\n",
       "  margin-left: 0.5em;\n",
       "  text-align: center;\n",
       "  /* unfitted */\n",
       "  border: var(--sklearn-color-unfitted-level-1) 1pt solid;\n",
       "  color: var(--sklearn-color-unfitted-level-1);\n",
       "}\n",
       "\n",
       ".sk-estimator-doc-link.fitted,\n",
       "a:link.sk-estimator-doc-link.fitted,\n",
       "a:visited.sk-estimator-doc-link.fitted {\n",
       "  /* fitted */\n",
       "  border: var(--sklearn-color-fitted-level-1) 1pt solid;\n",
       "  color: var(--sklearn-color-fitted-level-1);\n",
       "}\n",
       "\n",
       "/* On hover */\n",
       "div.sk-estimator:hover .sk-estimator-doc-link:hover,\n",
       ".sk-estimator-doc-link:hover,\n",
       "div.sk-label-container:hover .sk-estimator-doc-link:hover,\n",
       ".sk-estimator-doc-link:hover {\n",
       "  /* unfitted */\n",
       "  background-color: var(--sklearn-color-unfitted-level-3);\n",
       "  color: var(--sklearn-color-background);\n",
       "  text-decoration: none;\n",
       "}\n",
       "\n",
       "div.sk-estimator.fitted:hover .sk-estimator-doc-link.fitted:hover,\n",
       ".sk-estimator-doc-link.fitted:hover,\n",
       "div.sk-label-container:hover .sk-estimator-doc-link.fitted:hover,\n",
       ".sk-estimator-doc-link.fitted:hover {\n",
       "  /* fitted */\n",
       "  background-color: var(--sklearn-color-fitted-level-3);\n",
       "  color: var(--sklearn-color-background);\n",
       "  text-decoration: none;\n",
       "}\n",
       "\n",
       "/* Span, style for the box shown on hovering the info icon */\n",
       ".sk-estimator-doc-link span {\n",
       "  display: none;\n",
       "  z-index: 9999;\n",
       "  position: relative;\n",
       "  font-weight: normal;\n",
       "  right: .2ex;\n",
       "  padding: .5ex;\n",
       "  margin: .5ex;\n",
       "  width: min-content;\n",
       "  min-width: 20ex;\n",
       "  max-width: 50ex;\n",
       "  color: var(--sklearn-color-text);\n",
       "  box-shadow: 2pt 2pt 4pt #999;\n",
       "  /* unfitted */\n",
       "  background: var(--sklearn-color-unfitted-level-0);\n",
       "  border: .5pt solid var(--sklearn-color-unfitted-level-3);\n",
       "}\n",
       "\n",
       ".sk-estimator-doc-link.fitted span {\n",
       "  /* fitted */\n",
       "  background: var(--sklearn-color-fitted-level-0);\n",
       "  border: var(--sklearn-color-fitted-level-3);\n",
       "}\n",
       "\n",
       ".sk-estimator-doc-link:hover span {\n",
       "  display: block;\n",
       "}\n",
       "\n",
       "/* \"?\"-specific style due to the `<a>` HTML tag */\n",
       "\n",
       "#sk-container-id-1 a.estimator_doc_link {\n",
       "  float: right;\n",
       "  font-size: 1rem;\n",
       "  line-height: 1em;\n",
       "  font-family: monospace;\n",
       "  background-color: var(--sklearn-color-background);\n",
       "  border-radius: 1rem;\n",
       "  height: 1rem;\n",
       "  width: 1rem;\n",
       "  text-decoration: none;\n",
       "  /* unfitted */\n",
       "  color: var(--sklearn-color-unfitted-level-1);\n",
       "  border: var(--sklearn-color-unfitted-level-1) 1pt solid;\n",
       "}\n",
       "\n",
       "#sk-container-id-1 a.estimator_doc_link.fitted {\n",
       "  /* fitted */\n",
       "  border: var(--sklearn-color-fitted-level-1) 1pt solid;\n",
       "  color: var(--sklearn-color-fitted-level-1);\n",
       "}\n",
       "\n",
       "/* On hover */\n",
       "#sk-container-id-1 a.estimator_doc_link:hover {\n",
       "  /* unfitted */\n",
       "  background-color: var(--sklearn-color-unfitted-level-3);\n",
       "  color: var(--sklearn-color-background);\n",
       "  text-decoration: none;\n",
       "}\n",
       "\n",
       "#sk-container-id-1 a.estimator_doc_link.fitted:hover {\n",
       "  /* fitted */\n",
       "  background-color: var(--sklearn-color-fitted-level-3);\n",
       "}\n",
       "\n",
       ".estimator-table summary {\n",
       "    padding: .5rem;\n",
       "    font-family: monospace;\n",
       "    cursor: pointer;\n",
       "}\n",
       "\n",
       ".estimator-table details[open] {\n",
       "    padding-left: 0.1rem;\n",
       "    padding-right: 0.1rem;\n",
       "    padding-bottom: 0.3rem;\n",
       "}\n",
       "\n",
       ".estimator-table .parameters-table {\n",
       "    margin-left: auto !important;\n",
       "    margin-right: auto !important;\n",
       "}\n",
       "\n",
       ".estimator-table .parameters-table tr:nth-child(odd) {\n",
       "    background-color: #fff;\n",
       "}\n",
       "\n",
       ".estimator-table .parameters-table tr:nth-child(even) {\n",
       "    background-color: #f6f6f6;\n",
       "}\n",
       "\n",
       ".estimator-table .parameters-table tr:hover {\n",
       "    background-color: #e0e0e0;\n",
       "}\n",
       "\n",
       ".estimator-table table td {\n",
       "    border: 1px solid rgba(106, 105, 104, 0.232);\n",
       "}\n",
       "\n",
       ".user-set td {\n",
       "    color:rgb(255, 94, 0);\n",
       "    text-align: left;\n",
       "}\n",
       "\n",
       ".user-set td.value pre {\n",
       "    color:rgb(255, 94, 0) !important;\n",
       "    background-color: transparent !important;\n",
       "}\n",
       "\n",
       ".default td {\n",
       "    color: black;\n",
       "    text-align: left;\n",
       "}\n",
       "\n",
       ".user-set td i,\n",
       ".default td i {\n",
       "    color: black;\n",
       "}\n",
       "\n",
       ".copy-paste-icon {\n",
       "    background-image: url(data:image/svg+xml;base64,PHN2ZyB4bWxucz0iaHR0cDovL3d3dy53My5vcmcvMjAwMC9zdmciIHZpZXdCb3g9IjAgMCA0NDggNTEyIj48IS0tIUZvbnQgQXdlc29tZSBGcmVlIDYuNy4yIGJ5IEBmb250YXdlc29tZSAtIGh0dHBzOi8vZm9udGF3ZXNvbWUuY29tIExpY2Vuc2UgLSBodHRwczovL2ZvbnRhd2Vzb21lLmNvbS9saWNlbnNlL2ZyZWUgQ29weXJpZ2h0IDIwMjUgRm9udGljb25zLCBJbmMuLS0+PHBhdGggZD0iTTIwOCAwTDMzMi4xIDBjMTIuNyAwIDI0LjkgNS4xIDMzLjkgMTQuMWw2Ny45IDY3LjljOSA5IDE0LjEgMjEuMiAxNC4xIDMzLjlMNDQ4IDMzNmMwIDI2LjUtMjEuNSA0OC00OCA0OGwtMTkyIDBjLTI2LjUgMC00OC0yMS41LTQ4LTQ4bDAtMjg4YzAtMjYuNSAyMS41LTQ4IDQ4LTQ4ek00OCAxMjhsODAgMCAwIDY0LTY0IDAgMCAyNTYgMTkyIDAgMC0zMiA2NCAwIDAgNDhjMCAyNi41LTIxLjUgNDgtNDggNDhMNDggNTEyYy0yNi41IDAtNDgtMjEuNS00OC00OEwwIDE3NmMwLTI2LjUgMjEuNS00OCA0OC00OHoiLz48L3N2Zz4=);\n",
       "    background-repeat: no-repeat;\n",
       "    background-size: 14px 14px;\n",
       "    background-position: 0;\n",
       "    display: inline-block;\n",
       "    width: 14px;\n",
       "    height: 14px;\n",
       "    cursor: pointer;\n",
       "}\n",
       "</style><body><div id=\"sk-container-id-1\" class=\"sk-top-container\"><div class=\"sk-text-repr-fallback\"><pre>DecisionTreeClassifier()</pre><b>In a Jupyter environment, please rerun this cell to show the HTML representation or trust the notebook. <br />On GitHub, the HTML representation is unable to render, please try loading this page with nbviewer.org.</b></div><div class=\"sk-container\" hidden><div class=\"sk-item\"><div class=\"sk-estimator fitted sk-toggleable\"><input class=\"sk-toggleable__control sk-hidden--visually\" id=\"sk-estimator-id-1\" type=\"checkbox\" checked><label for=\"sk-estimator-id-1\" class=\"sk-toggleable__label fitted sk-toggleable__label-arrow\"><div><div>DecisionTreeClassifier</div></div><div><a class=\"sk-estimator-doc-link fitted\" rel=\"noreferrer\" target=\"_blank\" href=\"https://scikit-learn.org/1.7/modules/generated/sklearn.tree.DecisionTreeClassifier.html\">?<span>Documentation for DecisionTreeClassifier</span></a><span class=\"sk-estimator-doc-link fitted\">i<span>Fitted</span></span></div></label><div class=\"sk-toggleable__content fitted\" data-param-prefix=\"\">\n",
       "        <div class=\"estimator-table\">\n",
       "            <details>\n",
       "                <summary>Parameters</summary>\n",
       "                <table class=\"parameters-table\">\n",
       "                  <tbody>\n",
       "                    \n",
       "        <tr class=\"default\">\n",
       "            <td><i class=\"copy-paste-icon\"\n",
       "                 onclick=\"copyToClipboard('criterion',\n",
       "                          this.parentElement.nextElementSibling)\"\n",
       "            ></i></td>\n",
       "            <td class=\"param\">criterion&nbsp;</td>\n",
       "            <td class=\"value\">&#x27;gini&#x27;</td>\n",
       "        </tr>\n",
       "    \n",
       "\n",
       "        <tr class=\"default\">\n",
       "            <td><i class=\"copy-paste-icon\"\n",
       "                 onclick=\"copyToClipboard('splitter',\n",
       "                          this.parentElement.nextElementSibling)\"\n",
       "            ></i></td>\n",
       "            <td class=\"param\">splitter&nbsp;</td>\n",
       "            <td class=\"value\">&#x27;best&#x27;</td>\n",
       "        </tr>\n",
       "    \n",
       "\n",
       "        <tr class=\"default\">\n",
       "            <td><i class=\"copy-paste-icon\"\n",
       "                 onclick=\"copyToClipboard('max_depth',\n",
       "                          this.parentElement.nextElementSibling)\"\n",
       "            ></i></td>\n",
       "            <td class=\"param\">max_depth&nbsp;</td>\n",
       "            <td class=\"value\">None</td>\n",
       "        </tr>\n",
       "    \n",
       "\n",
       "        <tr class=\"default\">\n",
       "            <td><i class=\"copy-paste-icon\"\n",
       "                 onclick=\"copyToClipboard('min_samples_split',\n",
       "                          this.parentElement.nextElementSibling)\"\n",
       "            ></i></td>\n",
       "            <td class=\"param\">min_samples_split&nbsp;</td>\n",
       "            <td class=\"value\">2</td>\n",
       "        </tr>\n",
       "    \n",
       "\n",
       "        <tr class=\"default\">\n",
       "            <td><i class=\"copy-paste-icon\"\n",
       "                 onclick=\"copyToClipboard('min_samples_leaf',\n",
       "                          this.parentElement.nextElementSibling)\"\n",
       "            ></i></td>\n",
       "            <td class=\"param\">min_samples_leaf&nbsp;</td>\n",
       "            <td class=\"value\">1</td>\n",
       "        </tr>\n",
       "    \n",
       "\n",
       "        <tr class=\"default\">\n",
       "            <td><i class=\"copy-paste-icon\"\n",
       "                 onclick=\"copyToClipboard('min_weight_fraction_leaf',\n",
       "                          this.parentElement.nextElementSibling)\"\n",
       "            ></i></td>\n",
       "            <td class=\"param\">min_weight_fraction_leaf&nbsp;</td>\n",
       "            <td class=\"value\">0.0</td>\n",
       "        </tr>\n",
       "    \n",
       "\n",
       "        <tr class=\"default\">\n",
       "            <td><i class=\"copy-paste-icon\"\n",
       "                 onclick=\"copyToClipboard('max_features',\n",
       "                          this.parentElement.nextElementSibling)\"\n",
       "            ></i></td>\n",
       "            <td class=\"param\">max_features&nbsp;</td>\n",
       "            <td class=\"value\">None</td>\n",
       "        </tr>\n",
       "    \n",
       "\n",
       "        <tr class=\"default\">\n",
       "            <td><i class=\"copy-paste-icon\"\n",
       "                 onclick=\"copyToClipboard('random_state',\n",
       "                          this.parentElement.nextElementSibling)\"\n",
       "            ></i></td>\n",
       "            <td class=\"param\">random_state&nbsp;</td>\n",
       "            <td class=\"value\">None</td>\n",
       "        </tr>\n",
       "    \n",
       "\n",
       "        <tr class=\"default\">\n",
       "            <td><i class=\"copy-paste-icon\"\n",
       "                 onclick=\"copyToClipboard('max_leaf_nodes',\n",
       "                          this.parentElement.nextElementSibling)\"\n",
       "            ></i></td>\n",
       "            <td class=\"param\">max_leaf_nodes&nbsp;</td>\n",
       "            <td class=\"value\">None</td>\n",
       "        </tr>\n",
       "    \n",
       "\n",
       "        <tr class=\"default\">\n",
       "            <td><i class=\"copy-paste-icon\"\n",
       "                 onclick=\"copyToClipboard('min_impurity_decrease',\n",
       "                          this.parentElement.nextElementSibling)\"\n",
       "            ></i></td>\n",
       "            <td class=\"param\">min_impurity_decrease&nbsp;</td>\n",
       "            <td class=\"value\">0.0</td>\n",
       "        </tr>\n",
       "    \n",
       "\n",
       "        <tr class=\"default\">\n",
       "            <td><i class=\"copy-paste-icon\"\n",
       "                 onclick=\"copyToClipboard('class_weight',\n",
       "                          this.parentElement.nextElementSibling)\"\n",
       "            ></i></td>\n",
       "            <td class=\"param\">class_weight&nbsp;</td>\n",
       "            <td class=\"value\">None</td>\n",
       "        </tr>\n",
       "    \n",
       "\n",
       "        <tr class=\"default\">\n",
       "            <td><i class=\"copy-paste-icon\"\n",
       "                 onclick=\"copyToClipboard('ccp_alpha',\n",
       "                          this.parentElement.nextElementSibling)\"\n",
       "            ></i></td>\n",
       "            <td class=\"param\">ccp_alpha&nbsp;</td>\n",
       "            <td class=\"value\">0.0</td>\n",
       "        </tr>\n",
       "    \n",
       "\n",
       "        <tr class=\"default\">\n",
       "            <td><i class=\"copy-paste-icon\"\n",
       "                 onclick=\"copyToClipboard('monotonic_cst',\n",
       "                          this.parentElement.nextElementSibling)\"\n",
       "            ></i></td>\n",
       "            <td class=\"param\">monotonic_cst&nbsp;</td>\n",
       "            <td class=\"value\">None</td>\n",
       "        </tr>\n",
       "    \n",
       "                  </tbody>\n",
       "                </table>\n",
       "            </details>\n",
       "        </div>\n",
       "    </div></div></div></div></div><script>function copyToClipboard(text, element) {\n",
       "    // Get the parameter prefix from the closest toggleable content\n",
       "    const toggleableContent = element.closest('.sk-toggleable__content');\n",
       "    const paramPrefix = toggleableContent ? toggleableContent.dataset.paramPrefix : '';\n",
       "    const fullParamName = paramPrefix ? `${paramPrefix}${text}` : text;\n",
       "\n",
       "    const originalStyle = element.style;\n",
       "    const computedStyle = window.getComputedStyle(element);\n",
       "    const originalWidth = computedStyle.width;\n",
       "    const originalHTML = element.innerHTML.replace('Copied!', '');\n",
       "\n",
       "    navigator.clipboard.writeText(fullParamName)\n",
       "        .then(() => {\n",
       "            element.style.width = originalWidth;\n",
       "            element.style.color = 'green';\n",
       "            element.innerHTML = \"Copied!\";\n",
       "\n",
       "            setTimeout(() => {\n",
       "                element.innerHTML = originalHTML;\n",
       "                element.style = originalStyle;\n",
       "            }, 2000);\n",
       "        })\n",
       "        .catch(err => {\n",
       "            console.error('Failed to copy:', err);\n",
       "            element.style.color = 'red';\n",
       "            element.innerHTML = \"Failed!\";\n",
       "            setTimeout(() => {\n",
       "                element.innerHTML = originalHTML;\n",
       "                element.style = originalStyle;\n",
       "            }, 2000);\n",
       "        });\n",
       "    return false;\n",
       "}\n",
       "\n",
       "document.querySelectorAll('.fa-regular.fa-copy').forEach(function(element) {\n",
       "    const toggleableContent = element.closest('.sk-toggleable__content');\n",
       "    const paramPrefix = toggleableContent ? toggleableContent.dataset.paramPrefix : '';\n",
       "    const paramName = element.parentElement.nextElementSibling.textContent.trim();\n",
       "    const fullParamName = paramPrefix ? `${paramPrefix}${paramName}` : paramName;\n",
       "\n",
       "    element.setAttribute('title', fullParamName);\n",
       "});\n",
       "</script></body>"
      ],
      "text/plain": [
       "DecisionTreeClassifier()"
      ]
     },
     "execution_count": 19,
     "metadata": {},
     "output_type": "execute_result"
    }
   ],
=======
   "execution_count": null,
   "metadata": {},
   "outputs": [],
>>>>>>> e1912e385da9d555f892f2c463a52469f81f1033
   "source": [
    "model.fit(X_train, y_train)"
   ]
  },
  {
   "cell_type": "markdown",
   "metadata": {},
   "source": [
    "### Decision Tree - make a prediction"
   ]
  },
  {
   "cell_type": "code",
<<<<<<< HEAD
   "execution_count": 20,
=======
   "execution_count": null,
>>>>>>> e1912e385da9d555f892f2c463a52469f81f1033
   "metadata": {},
   "outputs": [],
   "source": [
    "y_pred = model.predict(X_test)\n",
    "y_pred_s = pd.Series(y_pred)"
   ]
  },
  {
   "cell_type": "code",
<<<<<<< HEAD
   "execution_count": 21,
   "metadata": {},
   "outputs": [
    {
     "data": {
      "text/plain": [
       "numpy.ndarray"
      ]
     },
     "execution_count": 21,
     "metadata": {},
     "output_type": "execute_result"
    }
   ],
=======
   "execution_count": null,
   "metadata": {},
   "outputs": [],
>>>>>>> e1912e385da9d555f892f2c463a52469f81f1033
   "source": [
    "type(y_pred)"
   ]
  },
  {
   "cell_type": "code",
<<<<<<< HEAD
   "execution_count": 22,
   "metadata": {},
   "outputs": [
    {
     "data": {
      "text/plain": [
       "0      Iris-virginica\n",
       "1         Iris-setosa\n",
       "2     Iris-versicolor\n",
       "3         Iris-setosa\n",
       "4     Iris-versicolor\n",
       "5         Iris-setosa\n",
       "6         Iris-setosa\n",
       "7     Iris-versicolor\n",
       "8     Iris-versicolor\n",
       "9     Iris-versicolor\n",
       "10     Iris-virginica\n",
       "11     Iris-virginica\n",
       "12     Iris-virginica\n",
       "13        Iris-setosa\n",
       "14        Iris-setosa\n",
       "15        Iris-setosa\n",
       "16        Iris-setosa\n",
       "17        Iris-setosa\n",
       "18    Iris-versicolor\n",
       "19     Iris-virginica\n",
       "20     Iris-virginica\n",
       "21    Iris-versicolor\n",
       "22     Iris-virginica\n",
       "23     Iris-virginica\n",
       "24     Iris-virginica\n",
       "25    Iris-versicolor\n",
       "26        Iris-setosa\n",
       "27        Iris-setosa\n",
       "28    Iris-versicolor\n",
       "29    Iris-versicolor\n",
       "dtype: object"
      ]
     },
     "execution_count": 22,
     "metadata": {},
     "output_type": "execute_result"
    }
   ],
=======
   "execution_count": null,
   "metadata": {},
   "outputs": [],
>>>>>>> e1912e385da9d555f892f2c463a52469f81f1033
   "source": [
    "y_pred_s"
   ]
  },
  {
   "cell_type": "code",
<<<<<<< HEAD
   "execution_count": 23,
   "metadata": {},
   "outputs": [
    {
     "data": {
      "text/plain": [
       "pandas.core.series.Series"
      ]
     },
     "execution_count": 23,
     "metadata": {},
     "output_type": "execute_result"
    }
   ],
=======
   "execution_count": null,
   "metadata": {},
   "outputs": [],
>>>>>>> e1912e385da9d555f892f2c463a52469f81f1033
   "source": [
    "type(y_test)"
   ]
  },
  {
   "cell_type": "code",
<<<<<<< HEAD
   "execution_count": 24,
   "metadata": {},
   "outputs": [
    {
     "data": {
      "text/plain": [
       "0      (Iris-virginica, Iris-versicolor)\n",
       "1             (Iris-setosa, Iris-setosa)\n",
       "2     (Iris-versicolor, Iris-versicolor)\n",
       "3             (Iris-setosa, Iris-setosa)\n",
       "4     (Iris-versicolor, Iris-versicolor)\n",
       "5             (Iris-setosa, Iris-setosa)\n",
       "6             (Iris-setosa, Iris-setosa)\n",
       "7     (Iris-versicolor, Iris-versicolor)\n",
       "8     (Iris-versicolor, Iris-versicolor)\n",
       "9     (Iris-versicolor, Iris-versicolor)\n",
       "10      (Iris-virginica, Iris-virginica)\n",
       "11     (Iris-virginica, Iris-versicolor)\n",
       "12      (Iris-virginica, Iris-virginica)\n",
       "13            (Iris-setosa, Iris-setosa)\n",
       "14            (Iris-setosa, Iris-setosa)\n",
       "15            (Iris-setosa, Iris-setosa)\n",
       "16            (Iris-setosa, Iris-setosa)\n",
       "17            (Iris-setosa, Iris-setosa)\n",
       "18    (Iris-versicolor, Iris-versicolor)\n",
       "19      (Iris-virginica, Iris-virginica)\n",
       "20      (Iris-virginica, Iris-virginica)\n",
       "21    (Iris-versicolor, Iris-versicolor)\n",
       "22      (Iris-virginica, Iris-virginica)\n",
       "23      (Iris-virginica, Iris-virginica)\n",
       "24      (Iris-virginica, Iris-virginica)\n",
       "25    (Iris-versicolor, Iris-versicolor)\n",
       "26            (Iris-setosa, Iris-setosa)\n",
       "27            (Iris-setosa, Iris-setosa)\n",
       "28    (Iris-versicolor, Iris-versicolor)\n",
       "29    (Iris-versicolor, Iris-versicolor)\n",
       "dtype: object"
      ]
     },
     "execution_count": 24,
     "metadata": {},
     "output_type": "execute_result"
    }
   ],
=======
   "execution_count": null,
   "metadata": {},
   "outputs": [],
>>>>>>> e1912e385da9d555f892f2c463a52469f81f1033
   "source": [
    "# combine to view\n",
    "s3 = pd.Series(list(zip(y_pred_s, y_test)))\n",
    "s3"
   ]
  },
  {
   "cell_type": "markdown",
   "metadata": {},
   "source": [
    "## Model Evaluation"
   ]
  },
  {
   "cell_type": "code",
<<<<<<< HEAD
   "execution_count": 25,
=======
   "execution_count": null,
>>>>>>> e1912e385da9d555f892f2c463a52469f81f1033
   "metadata": {},
   "outputs": [],
   "source": [
    "from sklearn.metrics import classification_report, confusion_matrix"
   ]
  },
  {
   "cell_type": "code",
<<<<<<< HEAD
   "execution_count": 26,
   "metadata": {},
   "outputs": [
    {
     "name": "stdout",
     "output_type": "stream",
     "text": [
      "                 precision    recall  f1-score   support\n",
      "\n",
      "    Iris-setosa       1.00      1.00      1.00        11\n",
      "Iris-versicolor       1.00      0.83      0.91        12\n",
      " Iris-virginica       0.78      1.00      0.88         7\n",
      "\n",
      "       accuracy                           0.93        30\n",
      "      macro avg       0.93      0.94      0.93        30\n",
      "   weighted avg       0.95      0.93      0.93        30\n",
      "\n"
     ]
    }
   ],
=======
   "execution_count": null,
   "metadata": {},
   "outputs": [],
>>>>>>> e1912e385da9d555f892f2c463a52469f81f1033
   "source": [
    "print(classification_report(y_test, y_pred))"
   ]
  },
  {
   "cell_type": "code",
<<<<<<< HEAD
   "execution_count": 27,
   "metadata": {},
   "outputs": [
    {
     "name": "stdout",
     "output_type": "stream",
     "text": [
      "[[11  0  0]\n",
      " [ 0 10  2]\n",
      " [ 0  0  7]]\n"
     ]
    }
   ],
=======
   "execution_count": null,
   "metadata": {},
   "outputs": [],
>>>>>>> e1912e385da9d555f892f2c463a52469f81f1033
   "source": [
    "print(confusion_matrix(y_test, y_pred))"
   ]
  },
  {
   "cell_type": "markdown",
   "metadata": {},
   "source": [
    "## Visualization"
   ]
  },
  {
   "cell_type": "code",
<<<<<<< HEAD
   "execution_count": 28,
   "metadata": {},
   "outputs": [
    {
     "data": {
      "image/png": "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",
      "text/plain": [
       "<Figure size 1000x1000 with 1 Axes>"
      ]
     },
     "metadata": {},
     "output_type": "display_data"
    }
   ],
=======
   "execution_count": null,
   "metadata": {},
   "outputs": [],
>>>>>>> e1912e385da9d555f892f2c463a52469f81f1033
   "source": [
    "plt.figure(figsize = (10, 10))\n",
    "plot_tree(model, feature_names = ['SepalLengthCm', 'SepalWidthCm', 'PetalLengthCm', 'PetalWidthCm'], \n",
    "          class_names = ['Iris-setosa', 'Iris-versicolor', 'Iris-virginica'], filled = True)\n",
    "plt.show()"
   ]
  }
 ],
 "metadata": {
  "kernelspec": {
   "display_name": "Python 3 (ipykernel)",
   "language": "python",
   "name": "python3"
  },
  "language_info": {
   "codemirror_mode": {
    "name": "ipython",
    "version": 3
   },
   "file_extension": ".py",
   "mimetype": "text/x-python",
   "name": "python",
   "nbconvert_exporter": "python",
   "pygments_lexer": "ipython3",
   "version": "3.13.7"
  }
 },
 "nbformat": 4,
 "nbformat_minor": 4
}
